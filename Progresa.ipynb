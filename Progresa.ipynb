{
 "cells": [
  {
   "cell_type": "markdown",
   "metadata": {},
   "source": [
    "# Problem Set 2"
   ]
  },
  {
   "cell_type": "markdown",
   "metadata": {},
   "source": [
    "## Introduction to the assignment\n",
    "\n",
    "For this assignment, you will be using data from the [Progresa program](http://en.wikipedia.org/wiki/Oportunidades), a government social assistance program in Mexico. This program, as well as the details of its impact, are described in the paper \"[School subsidies for the poor: evaluating the Mexican Progresa poverty program](http://www.sciencedirect.com/science/article/pii/S0304387803001858)\", by Paul Shultz (available on bCourses). Please familiarize yourself with the PROGRESA program before beginning this problem set, so you have a rough sense of where the data come from and how they were generated. If you just proceed into the problem set without understanding Progresa or the data, it will be very difficult!\n",
    "\n",
    "The goal of this problem set is to implement some of the basic econometric techniques that you are learning in class to measure the impact of Progresa on secondary school enrollment rates. The timeline of the program was:\n",
    "\n",
    " * Baseline survey conducted in 1997\n",
    " * Intervention begins in 1998, \"Wave 1\" of data collected in 1998\n",
    " * \"Wave 2 of data\" collected in 1999\n",
    " * Evaluation ends in 2000, at which point the control villages were treated. \n",
    " \n",
    "When you are ready, download the progresa_sample.csv data from bCourses. The data are actual data collected to evaluate the impact of the Progresa program.  In this file, each row corresponds to an observation taken for a given child for a given year. There are two years of data (1997 and 1998), and just under 40,000 children who are surveyed in each year. For each child-year observation, the following variables are collected:\n",
    "\n",
    "| Variable name | Description|\n",
    "|------|------|\n",
    "|year\t  |year in which data is collected\n",
    "|sex\t  |male = 1|\n",
    "|indig\t  |indigenous = 1|\n",
    "|dist_sec |nearest distance to a secondary school|\n",
    "|sc\t      |enrolled in school in year of survey|\n",
    "|grc      |grade enrolled|\n",
    "|fam_n    |family size|\n",
    "|min_dist |\tmin distance to an urban center|\n",
    "|dist_cap |\tmin distance to the capital|\n",
    "|poor     |\tpoor = 1|\n",
    "|progresa |treatment =1|\n",
    "|hohedu\t  |years of schooling of head of household|\n",
    "|hohwag\t  |monthly wages of head of household|\n",
    "|welfare_index|\twelfare index used to classify poor|\n",
    "|hohsex\t|gender of head of household (male=1)|\n",
    "|hohage\t|age of head of household|\n",
    "|age\t|years old|\n",
    "|folnum\t|individual id|\n",
    "|village|\tvillage id|\n",
    "|sc97\t|schooling in 1997|"
   ]
  },
  {
   "cell_type": "code",
   "execution_count": 1,
   "metadata": {},
   "outputs": [],
   "source": [
    "import IPython\n",
    "import numpy as np\n",
    "import pandas as pd\n",
    "import statsmodels.api as sm\n",
    "import statsmodels.formula.api as smf\n",
    "import scipy as sp\n",
    "import scipy.stats as stats\n",
    "import sklearn\n",
    "import matplotlib\n",
    "import matplotlib.pyplot as plt"
   ]
  },
  {
   "cell_type": "markdown",
   "metadata": {},
   "source": [
    "---\n",
    "\n",
    "## Part 1: Descriptive analysis\n",
    "\n",
    "### 1.1\tSummary Statistics\n",
    "\n",
    "Present summary statistics (mean and standard deviation) for all of the demographic variables in the dataset (i.e., everything except year, folnum, village). Present these in a single table alphabetized by variable name. Do NOT simply expect the grader to scroll through your output!"
   ]
  },
  {
   "cell_type": "code",
   "execution_count": 2,
   "metadata": {},
   "outputs": [
    {
     "data": {
      "text/html": [
       "<div>\n",
       "<style scoped>\n",
       "    .dataframe tbody tr th:only-of-type {\n",
       "        vertical-align: middle;\n",
       "    }\n",
       "\n",
       "    .dataframe tbody tr th {\n",
       "        vertical-align: top;\n",
       "    }\n",
       "\n",
       "    .dataframe thead th {\n",
       "        text-align: right;\n",
       "    }\n",
       "</style>\n",
       "<table border=\"1\" class=\"dataframe\">\n",
       "  <thead>\n",
       "    <tr style=\"text-align: right;\">\n",
       "      <th></th>\n",
       "      <th>mean</th>\n",
       "      <th>std</th>\n",
       "    </tr>\n",
       "  </thead>\n",
       "  <tbody>\n",
       "    <tr>\n",
       "      <td>age</td>\n",
       "      <td>11.141369</td>\n",
       "      <td>2.995374</td>\n",
       "    </tr>\n",
       "    <tr>\n",
       "      <td>dist_cap</td>\n",
       "      <td>148.747707</td>\n",
       "      <td>77.134043</td>\n",
       "    </tr>\n",
       "    <tr>\n",
       "      <td>dist_sec</td>\n",
       "      <td>2.346990</td>\n",
       "      <td>2.111281</td>\n",
       "    </tr>\n",
       "    <tr>\n",
       "      <td>fam_n</td>\n",
       "      <td>7.224666</td>\n",
       "      <td>2.329421</td>\n",
       "    </tr>\n",
       "    <tr>\n",
       "      <td>grc</td>\n",
       "      <td>4.089494</td>\n",
       "      <td>2.447608</td>\n",
       "    </tr>\n",
       "    <tr>\n",
       "      <td>grc97</td>\n",
       "      <td>3.762656</td>\n",
       "      <td>2.449568</td>\n",
       "    </tr>\n",
       "    <tr>\n",
       "      <td>hohage</td>\n",
       "      <td>44.262224</td>\n",
       "      <td>11.457772</td>\n",
       "    </tr>\n",
       "    <tr>\n",
       "      <td>hohedu</td>\n",
       "      <td>2.853908</td>\n",
       "      <td>2.655106</td>\n",
       "    </tr>\n",
       "    <tr>\n",
       "      <td>hohsex</td>\n",
       "      <td>0.927744</td>\n",
       "      <td>0.258914</td>\n",
       "    </tr>\n",
       "    <tr>\n",
       "      <td>hohwag</td>\n",
       "      <td>592.782484</td>\n",
       "      <td>791.378223</td>\n",
       "    </tr>\n",
       "    <tr>\n",
       "      <td>indig</td>\n",
       "      <td>0.291305</td>\n",
       "      <td>0.454367</td>\n",
       "    </tr>\n",
       "    <tr>\n",
       "      <td>min_dist</td>\n",
       "      <td>103.595249</td>\n",
       "      <td>42.025512</td>\n",
       "    </tr>\n",
       "    <tr>\n",
       "      <td>sc</td>\n",
       "      <td>0.821102</td>\n",
       "      <td>0.383270</td>\n",
       "    </tr>\n",
       "    <tr>\n",
       "      <td>sc97</td>\n",
       "      <td>0.839263</td>\n",
       "      <td>0.367291</td>\n",
       "    </tr>\n",
       "    <tr>\n",
       "      <td>sex</td>\n",
       "      <td>0.513572</td>\n",
       "      <td>0.499819</td>\n",
       "    </tr>\n",
       "    <tr>\n",
       "      <td>welfare_index</td>\n",
       "      <td>690.196267</td>\n",
       "      <td>139.489218</td>\n",
       "    </tr>\n",
       "  </tbody>\n",
       "</table>\n",
       "</div>"
      ],
      "text/plain": [
       "                     mean         std\n",
       "age             11.141369    2.995374\n",
       "dist_cap       148.747707   77.134043\n",
       "dist_sec         2.346990    2.111281\n",
       "fam_n            7.224666    2.329421\n",
       "grc              4.089494    2.447608\n",
       "grc97            3.762656    2.449568\n",
       "hohage          44.262224   11.457772\n",
       "hohedu           2.853908    2.655106\n",
       "hohsex           0.927744    0.258914\n",
       "hohwag         592.782484  791.378223\n",
       "indig            0.291305    0.454367\n",
       "min_dist       103.595249   42.025512\n",
       "sc               0.821102    0.383270\n",
       "sc97             0.839263    0.367291\n",
       "sex              0.513572    0.499819\n",
       "welfare_index  690.196267  139.489218"
      ]
     },
     "execution_count": 2,
     "metadata": {},
     "output_type": "execute_result"
    }
   ],
   "source": [
    "# your code here\n",
    "\n",
    "# Import the data set\n",
    "prg = pd.read_csv('progresa_sample.csv', engine = 'python')\n",
    "\n",
    "# Drop the missing values (Based on the instructor answer to question@16 on Piazza)\n",
    "prg = prg.dropna()\n",
    "\n",
    "# Present the summary statistics table \n",
    "prg1 = prg.drop(['year', 'folnum', 'village'], axis = 1)\n",
    "prg1.describe()['mean':'std'].T.sort_index() # list the variables in alphabetical order\n",
    " "
   ]
  },
  {
   "cell_type": "markdown",
   "metadata": {},
   "source": [
    "### 1.2 Differences at baseline?\n",
    "\n",
    "Are the baseline (1997) demographic characteristics **for the poor**  different in treatment and control villages? Hint: Use a T-Test to determine whether there is a statistically significant difference in the average values of each of the variables in the dataset. Focus only on the data from 1997 for individuals who are poor (i.e., poor=='pobre').\n",
    "\n",
    "Present your results in a single table with the following columns and 14 (or so) rows (alphabetized by variable name):\n",
    "\n",
    "| Variable name | Average value (Treatment villages) | Average value (Control villages) | Difference (Treat - Control) | p-value |\n",
    "|------|------|------|------|------|\n",
    "|Male|?|?|?|?|\n"
   ]
  },
  {
   "cell_type": "code",
   "execution_count": 3,
   "metadata": {},
   "outputs": [
    {
     "data": {
      "text/html": [
       "<div>\n",
       "<style scoped>\n",
       "    .dataframe tbody tr th:only-of-type {\n",
       "        vertical-align: middle;\n",
       "    }\n",
       "\n",
       "    .dataframe tbody tr th {\n",
       "        vertical-align: top;\n",
       "    }\n",
       "\n",
       "    .dataframe thead th {\n",
       "        text-align: right;\n",
       "    }\n",
       "</style>\n",
       "<table border=\"1\" class=\"dataframe\">\n",
       "  <thead>\n",
       "    <tr style=\"text-align: right;\">\n",
       "      <th></th>\n",
       "      <th>Variable name</th>\n",
       "      <th>Average value (Treatment villages)</th>\n",
       "      <th>Average value (Control villages)</th>\n",
       "      <th>Difference (Treat - Control)</th>\n",
       "      <th>p-value</th>\n",
       "    </tr>\n",
       "  </thead>\n",
       "  <tbody>\n",
       "    <tr>\n",
       "      <td>0</td>\n",
       "      <td>age</td>\n",
       "      <td>10.743825</td>\n",
       "      <td>10.785586</td>\n",
       "      <td>-0.041761</td>\n",
       "      <td>2.476155e-01</td>\n",
       "    </tr>\n",
       "    <tr>\n",
       "      <td>1</td>\n",
       "      <td>dist_cap</td>\n",
       "      <td>151.801472</td>\n",
       "      <td>154.492095</td>\n",
       "      <td>-2.690622</td>\n",
       "      <td>3.414194e-03</td>\n",
       "    </tr>\n",
       "    <tr>\n",
       "      <td>2</td>\n",
       "      <td>dist_sec</td>\n",
       "      <td>2.399648</td>\n",
       "      <td>2.400687</td>\n",
       "      <td>-0.001039</td>\n",
       "      <td>9.670949e-01</td>\n",
       "    </tr>\n",
       "    <tr>\n",
       "      <td>3</td>\n",
       "      <td>fam_n</td>\n",
       "      <td>7.281032</td>\n",
       "      <td>7.302939</td>\n",
       "      <td>-0.021907</td>\n",
       "      <td>4.236088e-01</td>\n",
       "    </tr>\n",
       "    <tr>\n",
       "      <td>4</td>\n",
       "      <td>grc</td>\n",
       "      <td>3.709214</td>\n",
       "      <td>3.733653</td>\n",
       "      <td>-0.024439</td>\n",
       "      <td>3.947750e-01</td>\n",
       "    </tr>\n",
       "    <tr>\n",
       "      <td>5</td>\n",
       "      <td>grc97</td>\n",
       "      <td>3.709214</td>\n",
       "      <td>3.733653</td>\n",
       "      <td>-0.024439</td>\n",
       "      <td>3.947750e-01</td>\n",
       "    </tr>\n",
       "    <tr>\n",
       "      <td>6</td>\n",
       "      <td>hohage</td>\n",
       "      <td>43.631234</td>\n",
       "      <td>44.270717</td>\n",
       "      <td>-0.639483</td>\n",
       "      <td>1.925767e-06</td>\n",
       "    </tr>\n",
       "    <tr>\n",
       "      <td>7</td>\n",
       "      <td>hohedu</td>\n",
       "      <td>2.726729</td>\n",
       "      <td>2.660982</td>\n",
       "      <td>0.065747</td>\n",
       "      <td>2.613239e-02</td>\n",
       "    </tr>\n",
       "    <tr>\n",
       "      <td>8</td>\n",
       "      <td>hohsex</td>\n",
       "      <td>0.925586</td>\n",
       "      <td>0.923387</td>\n",
       "      <td>0.002199</td>\n",
       "      <td>4.781232e-01</td>\n",
       "    </tr>\n",
       "    <tr>\n",
       "      <td>9</td>\n",
       "      <td>hohwag</td>\n",
       "      <td>550.207086</td>\n",
       "      <td>580.694452</td>\n",
       "      <td>-30.487366</td>\n",
       "      <td>2.727661e-04</td>\n",
       "    </tr>\n",
       "    <tr>\n",
       "      <td>10</td>\n",
       "      <td>indig</td>\n",
       "      <td>0.316744</td>\n",
       "      <td>0.325306</td>\n",
       "      <td>-0.008562</td>\n",
       "      <td>1.183760e-01</td>\n",
       "    </tr>\n",
       "    <tr>\n",
       "      <td>11</td>\n",
       "      <td>min_dist</td>\n",
       "      <td>107.395231</td>\n",
       "      <td>103.098348</td>\n",
       "      <td>4.296884</td>\n",
       "      <td>1.936661e-18</td>\n",
       "    </tr>\n",
       "    <tr>\n",
       "      <td>12</td>\n",
       "      <td>sc</td>\n",
       "      <td>0.822697</td>\n",
       "      <td>0.815066</td>\n",
       "      <td>0.007631</td>\n",
       "      <td>9.117959e-02</td>\n",
       "    </tr>\n",
       "    <tr>\n",
       "      <td>13</td>\n",
       "      <td>sc97</td>\n",
       "      <td>0.822697</td>\n",
       "      <td>0.815066</td>\n",
       "      <td>0.007631</td>\n",
       "      <td>9.117959e-02</td>\n",
       "    </tr>\n",
       "    <tr>\n",
       "      <td>14</td>\n",
       "      <td>sex</td>\n",
       "      <td>0.520268</td>\n",
       "      <td>0.506556</td>\n",
       "      <td>0.013713</td>\n",
       "      <td>1.956962e-02</td>\n",
       "    </tr>\n",
       "    <tr>\n",
       "      <td>15</td>\n",
       "      <td>welfare_index</td>\n",
       "      <td>656.810476</td>\n",
       "      <td>661.593513</td>\n",
       "      <td>-4.783037</td>\n",
       "      <td>3.724043e-04</td>\n",
       "    </tr>\n",
       "  </tbody>\n",
       "</table>\n",
       "</div>"
      ],
      "text/plain": [
       "    Variable name  Average value (Treatment villages)  \\\n",
       "0             age                           10.743825   \n",
       "1        dist_cap                          151.801472   \n",
       "2        dist_sec                            2.399648   \n",
       "3           fam_n                            7.281032   \n",
       "4             grc                            3.709214   \n",
       "5           grc97                            3.709214   \n",
       "6          hohage                           43.631234   \n",
       "7          hohedu                            2.726729   \n",
       "8          hohsex                            0.925586   \n",
       "9          hohwag                          550.207086   \n",
       "10          indig                            0.316744   \n",
       "11       min_dist                          107.395231   \n",
       "12             sc                            0.822697   \n",
       "13           sc97                            0.822697   \n",
       "14            sex                            0.520268   \n",
       "15  welfare_index                          656.810476   \n",
       "\n",
       "    Average value (Control villages)  Difference (Treat - Control)  \\\n",
       "0                          10.785586                     -0.041761   \n",
       "1                         154.492095                     -2.690622   \n",
       "2                           2.400687                     -0.001039   \n",
       "3                           7.302939                     -0.021907   \n",
       "4                           3.733653                     -0.024439   \n",
       "5                           3.733653                     -0.024439   \n",
       "6                          44.270717                     -0.639483   \n",
       "7                           2.660982                      0.065747   \n",
       "8                           0.923387                      0.002199   \n",
       "9                         580.694452                    -30.487366   \n",
       "10                          0.325306                     -0.008562   \n",
       "11                        103.098348                      4.296884   \n",
       "12                          0.815066                      0.007631   \n",
       "13                          0.815066                      0.007631   \n",
       "14                          0.506556                      0.013713   \n",
       "15                        661.593513                     -4.783037   \n",
       "\n",
       "         p-value  \n",
       "0   2.476155e-01  \n",
       "1   3.414194e-03  \n",
       "2   9.670949e-01  \n",
       "3   4.236088e-01  \n",
       "4   3.947750e-01  \n",
       "5   3.947750e-01  \n",
       "6   1.925767e-06  \n",
       "7   2.613239e-02  \n",
       "8   4.781232e-01  \n",
       "9   2.727661e-04  \n",
       "10  1.183760e-01  \n",
       "11  1.936661e-18  \n",
       "12  9.117959e-02  \n",
       "13  9.117959e-02  \n",
       "14  1.956962e-02  \n",
       "15  3.724043e-04  "
      ]
     },
     "execution_count": 3,
     "metadata": {},
     "output_type": "execute_result"
    }
   ],
   "source": [
    "# Create two dataframes\n",
    "base_dic = {'Variable name':[], 'Average value (Treatment villages)':[], 'Average value (Control villages)':[], 'Difference (Treat - Control)':[], 'p-value':[]}\n",
    "prg2 = prg[(prg['year'] == 97) & (prg['poor'] == 'pobre')]\n",
    "prg2 = prg2.drop(['year', 'folnum', 'village', 'poor'], axis = 1)\n",
    "baseline_control = prg2[prg2['progresa'] == str(0)].drop(['progresa'], axis = 1)\n",
    "baseline_treatment = prg2[prg2['progresa'] == 'basal'].drop(['progresa'], axis = 1)\n",
    "\n",
    "# Sort the variables in alphabetical order\n",
    "baseline_control = baseline_control.sort_index(axis=1)\n",
    "baseline_treatment = baseline_treatment.sort_index(axis=1)\n",
    "\n",
    "# Calculate the required data for two dataframes\n",
    "for i in baseline_control:\n",
    "    base_dic['Variable name'].append(i)\n",
    "    base_dic['Average value (Control villages)'].append(baseline_control[i].mean())\n",
    "    \n",
    "for i in baseline_treatment:\n",
    "    base_dic['Average value (Treatment villages)'].append(baseline_treatment[i].mean())\n",
    "    \n",
    "for i in range(len(base_dic['Variable name'])):\n",
    "    base_dic['Difference (Treat - Control)'].append(base_dic['Average value (Treatment villages)'][i] - base_dic['Average value (Control villages)'][i])\n",
    "    base_dic['p-value'].append(sp.stats.ttest_ind(baseline_treatment[base_dic['Variable name'][i]], \n",
    "                                                  baseline_control[base_dic['Variable name'][i]], \n",
    "                                                  axis = 0, equal_var = True, nan_policy = 'omit')[1])\n",
    "\n",
    "# Print the results in a single table \n",
    "baseline_analyses = pd.DataFrame(base_dic, columns=['Variable name', 'Average value (Treatment villages)', \n",
    "                                                    'Average value (Control villages)', \n",
    "                                                    'Difference (Treat - Control)', 'p-value'])  \n",
    "baseline_analyses"
   ]
  },
  {
   "cell_type": "markdown",
   "metadata": {},
   "source": [
    "### 1.3 Interpretation\n",
    "\n",
    "* A: Are there statistically significant differences between treatment and control villages as baseline? \n",
    "* B: Why does it matter if there are differences at baseline?\n",
    "* C: What does this imply about how to measure the impact of the treatment?"
   ]
  },
  {
   "cell_type": "code",
   "execution_count": 4,
   "metadata": {},
   "outputs": [
    {
     "data": {
      "text/plain": [
       "0     False\n",
       "1      True\n",
       "2     False\n",
       "3     False\n",
       "4     False\n",
       "5     False\n",
       "6      True\n",
       "7      True\n",
       "8     False\n",
       "9      True\n",
       "10    False\n",
       "11     True\n",
       "12    False\n",
       "13    False\n",
       "14     True\n",
       "15     True\n",
       "Name: p-value, dtype: bool"
      ]
     },
     "execution_count": 4,
     "metadata": {},
     "output_type": "execute_result"
    }
   ],
   "source": [
    "# Check whether there are statistically significant differences at baseline \n",
    "baseline_analyses['p-value'] < 0.05"
   ]
  },
  {
   "cell_type": "markdown",
   "metadata": {},
   "source": [
    "*Discuss your results here*\n",
    "\n",
    "*A: There are significant differences between treatment and control villages with respect to the following demographic characteristics: dist_cap, hohage, hohedu, hohwag, min_dist, sex, welfare_index. There are not significant differences with respect to other characteristics since their p-values are larger than 0.05.* \n",
    "\n",
    "*B: If there are significant differences at baseline, this can be interpreted as evidence that the treatment and control groups are not comparable and hence do not provide a fair basis from which to compare the impact of the treatment. Therefore, testing the baseline differences is important to prove that randomly assigned treatment and control groups are equivalent in the baseline and that there will not be any differences due to randomization.*\n",
    "\n",
    "*C: If there are significant differences at baseline, this implies that the treatment status is randomly conditioned on the demographic characteristics. However, we can assume that the treatment is randomized across the individuals within each treatment village. Therefore, the impact of the treatment can be measured by taking a weighted average over all villages to observe the average impact of the intervention on the treatment villages. Another idea might be trying to remove the existing differences at baseline for the demographic characteristics listed above. This way we can measure the impact of treatment without any bias.*"
   ]
  },
  {
   "cell_type": "markdown",
   "metadata": {},
   "source": [
    "### 1.4 Graphical exploration, part 1\n",
    "\n",
    "For each level of household head education, compute the average enrollment rate in 1997. Create a scatterplot that shows this relationship. What do you notice?"
   ]
  },
  {
   "cell_type": "code",
   "execution_count": 5,
   "metadata": {},
   "outputs": [
    {
     "data": {
      "text/plain": [
       "Text(0, 0.5, 'Average enrollment rate in 1997')"
      ]
     },
     "execution_count": 5,
     "metadata": {},
     "output_type": "execute_result"
    },
    {
     "data": {
      "image/png": "[encoded data removed]",
      "text/plain": [
       "<Figure size 792x432 with 1 Axes>"
      ]
     },
     "metadata": {
      "needs_background": "light"
     },
     "output_type": "display_data"
    }
   ],
   "source": [
    "# Your code here\n",
    "\n",
    "# Compute the average enrollment rates \n",
    "enroll = np.zeros(21)\n",
    "for i in range(21):\n",
    "        enroll[i] = prg[(prg['hohedu'] == i) & (prg['year'] == 97)]['sc'].mean()\n",
    "\n",
    "# Create the dataframe \n",
    "df1 = pd.DataFrame({'education':np.arange(0,21,1), 'enrollment':enroll})\n",
    "\n",
    "# Plot the scatterplot\n",
    "plt.figure(figsize=(11,6))\n",
    "ax = plt.subplot(111)\n",
    "plt.scatter(df1.education, df1.enrollment, color = 'blue')\n",
    "plt.xlabel('Level of household head education')\n",
    "plt.ylabel('Average enrollment rate in 1997')\n"
   ]
  },
  {
   "cell_type": "markdown",
   "metadata": {},
   "source": [
    "*Discuss your results here*\n",
    "\n",
    "*In general, we can conlude that as the level of household head education increases, the average school enrollment rates at baseline increases. This makes sense because a child is more likely to be enrolled in school (even without an intervention) if the head of the household is more educated and conscious about the value of education. However, we also observe that average enrollment rates slightly drop for household head education years 10 and 13. Lastly, there is an outlier point at year 20 which stands far from the general trend of the plot with an average enrollment rate of almost 50% which is even less than the average rate for households whose head does not have any education at all.*\n"
   ]
  },
  {
   "cell_type": "markdown",
   "metadata": {},
   "source": [
    "### 1.5 Graphical exploration, part 2\n",
    "\n",
    "Visualize the distribution of village enrollment rates **among poor households in treated villages**, before and after treatment. Specifically, for each village, calculate the average rate of enrollment of poor households in treated villages in 1997, then compute the average rate of enrollment of poor households in treated villages in 1998. Create two separate histograms showing the distribution of these average enrollments rates, one histogram for 1997 and one histogram for 1998. On each histogram, draw a vertical line that intersects the x-axis at the average value (across all households). Does there appear to be a difference? Is this difference statistically significant?"
   ]
  },
  {
   "cell_type": "code",
   "execution_count": 6,
   "metadata": {},
   "outputs": [
    {
     "name": "stdout",
     "output_type": "stream",
     "text": [
      "Overall average enrollment rate in 1997: 0.8137571244249541\n",
      "Overall average enrollment rate in 1998: 0.8337415033712263\n",
      "Ttest_indResult(statistic=-2.5636087966029333, pvalue=0.010587739721624679)\n"
     ]
    },
    {
     "data": {
      "image/png": "[encoded data removed]",
      "text/plain": [
       "<Figure size 792x432 with 1 Axes>"
      ]
     },
     "metadata": {
      "needs_background": "light"
     },
     "output_type": "display_data"
    },
    {
     "data": {
      "image/png": "[encoded data removed]",
      "text/plain": [
       "<Figure size 792x432 with 1 Axes>"
      ]
     },
     "metadata": {
      "needs_background": "light"
     },
     "output_type": "display_data"
    }
   ],
   "source": [
    "# Your code here\n",
    "\n",
    "# Compute data for 1997 histogram\n",
    "av97 = prg[(prg['poor'] =='pobre') & (prg['progresa'] == 'basal') & (prg['year'] == 97)].groupby('village').mean()\n",
    "x97 = av97['sc'].mean()\n",
    "\n",
    "# Plot 1997 histogram \n",
    "plt.figure(figsize=(11,6))\n",
    "ax = plt.subplot(111)\n",
    "plt.hist(av97['sc'], color = 'green', edgecolor = 'none')\n",
    "plt.ylabel('Number of treated villages')\n",
    "plt.xlabel('Average village enrollment rates in treated villages')\n",
    "plt.title('Before Treatment (1997): Histogram of village enrollment rates in treated villages')\n",
    "plt.axvline(x97, color='black', linestyle='dashed', linewidth=2) # draw the vertical line\n",
    "\n",
    "# Compute data for 1998 histogram\n",
    "av98 = prg[(prg['poor'] =='pobre') & (prg['progresa'] == 'basal') & (prg['year'] == 98)].groupby('village').mean()\n",
    "x98 = av98['sc'].mean()\n",
    "\n",
    "# Plot 1998 histogram\n",
    "plt.figure(figsize=(11,6))\n",
    "ax = plt.subplot(111)\n",
    "plt.hist(av98['sc'], color = 'purple', edgecolor = 'none')\n",
    "plt.ylabel('Number of treated villages')\n",
    "plt.xlabel('Average village enrollment rates in treated villages')\n",
    "plt.title('After Treatment (1998): Histogram of village enrollment rates in treated villages')\n",
    "plt.axvline(x98, color='black', linestyle='dashed', linewidth=2) # draw the vertical line \n",
    "\n",
    "# Print the results\n",
    "print('Overall average enrollment rate in 1997:', x97)\n",
    "print('Overall average enrollment rate in 1998:', x98)\n",
    "t = stats.ttest_ind(av97['sc'], av98['sc'])\n",
    "print(t)"
   ]
  },
  {
   "cell_type": "markdown",
   "metadata": {},
   "source": [
    "*Discuss your results here*\n",
    "\n",
    "*As can be seen from the histograms, the \"after treatment\" histogram is more left-skewed than the \"before treatment\" histogram. This implies that the average village enrollment rates in treatment villages get higher after the treatment. When we look at the overall average village enrollment rates of the poor households in treated villages, the overall average is 0.81375 (almost 81%) in 1997 and 0.83374 (almost 83%) in 1998. This can be also seen from the vertical black lines in the histograms that show the average values among all the poor households in treatment villages. It appears that the overall average village enrollment rate among poor households in treated villages is increased by almost 0.02 (2%) after the treatment. Based on the t-test result, we can conclude that this difference is statistically significant since p-value = 0.0105 < 0.05.*"
   ]
  },
  {
   "cell_type": "markdown",
   "metadata": {},
   "source": [
    "## Part 2: Measuring Impact\n",
    "\n",
    "Our goal is to estimate the causal impact of the PROGRESA program on the social and economic outcomes of individuals in Mexico. We will focus on the impact of the program on the poor (those with poor=='pobre'), since only the poor were eligible to receive the PROGRESA assistance.\n",
    "\n",
    "### 2.1 Simple differences: T-test\n",
    "\n",
    "Begin by estimating the impact of Progresa using \"simple differences.\" Restricting yourself to data from 1998 (after treatment), calculate the average enrollment rate among **poor** households in the Treatment villages and the average enrollment rate among **poor** households in the control villages. Use a t-test to determine if this difference is statistically significant. What do you conclude?"
   ]
  },
  {
   "cell_type": "code",
   "execution_count": 7,
   "metadata": {},
   "outputs": [
    {
     "name": "stdout",
     "output_type": "stream",
     "text": [
      "Treatment Average: 0.849257030578411\n",
      "Control Average: 0.810923092511906\n",
      "Impact (Simple Difference): 0.03833393806650498\n",
      "p-value: 5.656455605358843e-16\n",
      "t-value: 8.101650305300375\n"
     ]
    }
   ],
   "source": [
    "# Your code here\n",
    "\n",
    "# Calculate the average enrollment rate among poor households in the treatment villages\n",
    "outcome_treat = prg[(prg['poor'] =='pobre') & (prg['progresa'] == 'basal') & (prg['year'] == 98)].sc.mean()\n",
    "\n",
    "# Calculate the average enrollment rate among poor households in the control villages\n",
    "outcome_control = prg[(prg['poor'] =='pobre') & (prg['progresa'] == str(0)) & (prg['year'] == 98)].sc.mean()\n",
    "\n",
    "# Apply t-test\n",
    "tval, pval = sp.stats.ttest_ind(prg[(prg['poor'] =='pobre') & (prg['progresa'] == 'basal') & (prg['year'] == 98)]['sc'], \n",
    "                                prg[(prg['poor'] =='pobre') & (prg['progresa'] == str(0)) & (prg['year'] == 98)]['sc'], \n",
    "                                axis = 0, equal_var = True, nan_policy = 'omit')\n",
    "\n",
    "# Print the results\n",
    "print(\"Treatment Average: \" + str(outcome_treat))\n",
    "print(\"Control Average: \" + str(outcome_control))\n",
    "print(\"Impact (Simple Difference): \" + str(outcome_treat - outcome_control))\n",
    "print(\"p-value: \" + str(pval))\n",
    "print(\"t-value: \" + str(tval))\n"
   ]
  },
  {
   "cell_type": "markdown",
   "metadata": {},
   "source": [
    "*Discuss your results here*\n",
    "\n",
    "*As can be seen, after the treatment, the average enrollment rate among poor households in the treatment villages are higher than that of in the control villages. The simple difference impact of treatment is computed as 0.0383. Since the p-value computed by the t-test is much smaller than 0.05, we can conclude that this difference is statistically significant. In other words, we can conclude that the Progresa treatment had a significant impact on 1998 enrollment rates of poor children in the treatment villages.*"
   ]
  },
  {
   "cell_type": "markdown",
   "metadata": {},
   "source": [
    "### 2.2 Simple differences: Regression\n",
    "\n",
    "Estimate the effects of Progresa on enrollment using a regression model, by regressing the 1998 enrollment rates **of the poor** on treatment assignment. For now, do not include any other variables in your regression. Discuss the following:\n",
    "\n",
    "* Based on this model, how much did Progresa increase or decrease the likelihood of a child enrolling? Make sure you express you answer in a sentence that your grandmother could understand, using appropriate units.\n",
    "* How does your regression estimate compare to your t-test estimate from part 2.1?\n",
    "* Based on this regression model, can we reject the null hypothesis that the treatment effects are zero? \n",
    "* What is the counterfactual assumption underlying this regression?"
   ]
  },
  {
   "cell_type": "code",
   "execution_count": 8,
   "metadata": {},
   "outputs": [
    {
     "name": "stdout",
     "output_type": "stream",
     "text": [
      "                            OLS Regression Results                            \n",
      "==============================================================================\n",
      "Dep. Variable:                     sc   R-squared:                       0.003\n",
      "Model:                            OLS   Adj. R-squared:                  0.002\n",
      "Method:                 Least Squares   F-statistic:                     65.64\n",
      "Date:                Mon, 10 Feb 2020   Prob (F-statistic):           5.66e-16\n",
      "Time:                        13:13:25   Log-Likelihood:                -11171.\n",
      "No. Observations:               26155   AIC:                         2.235e+04\n",
      "Df Residuals:                   26153   BIC:                         2.236e+04\n",
      "Df Model:                           1                                         \n",
      "Covariance Type:            nonrobust                                         \n",
      "=====================================================================================\n",
      "                        coef    std err          t      P>|t|      [0.025      0.975]\n",
      "-------------------------------------------------------------------------------------\n",
      "Intercept             0.8109      0.004    217.190      0.000       0.804       0.818\n",
      "progresa[T.basal]     0.0383      0.005      8.102      0.000       0.029       0.048\n",
      "==============================================================================\n",
      "Omnibus:                     7487.800   Durbin-Watson:                   1.734\n",
      "Prob(Omnibus):                  0.000   Jarque-Bera (JB):            15756.374\n",
      "Skew:                          -1.796   Prob(JB):                         0.00\n",
      "Kurtosis:                       4.245   Cond. No.                         3.02\n",
      "==============================================================================\n",
      "\n",
      "Warnings:\n",
      "[1] Standard Errors assume that the covariance matrix of the errors is correctly specified.\n"
     ]
    }
   ],
   "source": [
    "## Your code here\n",
    "\n",
    "reg1 = smf.ols(formula='sc ~ progresa', data=prg[(prg['poor'] =='pobre') & (prg['year'] == 98)], missing = 'drop').fit()\n",
    "print(reg1.summary())\n"
   ]
  },
  {
   "cell_type": "markdown",
   "metadata": {},
   "source": [
    "*Discuss your results here*\n",
    "\n",
    "- *Based on this model, the average 1998 enrollment rate of non-treated (control) villages is observed as 0.8109, i.e. 81% of the poor children living in the control villages are enrolled in school in 1998. In addition, it is more likely to have 0.0383 unit of increase in the enrollment rate with one unit of increase in treatment. In other words, if a poor household is assigned to be in the Progresa treatment group, then the likelihood of their child's school enrollment increases by 0.0383 (almost 4%). That is the Progresa treatment increases the likelihood of a child enrolling by 0.0383.* \n",
    "\n",
    "\n",
    "- *In part 2.1, the treatment impact is computed as to be 0.84925 - 0.81092 = 0.03833, which is the same as the coefficient of the treatment variable in the regression model above. This value corresponds to the effect of Progresa treatment on the average 1998 enrollment rate. Also note that, the average enrollment rate of the treatment group that is given by the regression equation 0.8109 + 1 x 0.383 = 0.8492 is same as the calculated treatment average in part 2.1. In addition, in part 2.1, the computed t-statistic value was 8.10165 ~ 8.102 which is same as the t-value reported in OLS regression results table above.*\n",
    "\n",
    "\n",
    "- *Based on this regression model, we can reject the null hypothesis that the treatment effects are zero because the p-value of the t-statistic is 0 which is less than 0.05.*\n",
    "\n",
    "\n",
    "- *Counterfactual assumption: In the absence of treatment, average school enrollment rates of the children living in poor beneficiary (treatment) group households would have been same as average school enrollment rates of the children living in poor control group households.*"
   ]
  },
  {
   "cell_type": "markdown",
   "metadata": {},
   "source": [
    "### 2.3 Multiple Regression\n",
    "\n",
    "Re-run the above regression estimated but this time include a set of control variables. Include, for instance, age, distance to a secondary school, gender, education of household head, welfare index, indigenous, etc.\n",
    "\n",
    "* How do the controls affect the point estimate of treatment effect?\n",
    "* How do the controls affect the standard error on the treatment effect? \n",
    "* How do you interpret the differences (or similarities) between your estimates of 2.2 and 2.3?"
   ]
  },
  {
   "cell_type": "code",
   "execution_count": 9,
   "metadata": {},
   "outputs": [
    {
     "name": "stdout",
     "output_type": "stream",
     "text": [
      "                            OLS Regression Results                            \n",
      "==============================================================================\n",
      "Dep. Variable:                     sc   R-squared:                       0.268\n",
      "Model:                            OLS   Adj. R-squared:                  0.268\n",
      "Method:                 Least Squares   F-statistic:                     737.9\n",
      "Date:                Mon, 10 Feb 2020   Prob (F-statistic):               0.00\n",
      "Time:                        13:15:06   Log-Likelihood:                -7116.1\n",
      "No. Observations:               26155   AIC:                         1.426e+04\n",
      "Df Residuals:                   26141   BIC:                         1.437e+04\n",
      "Df Model:                          13                                         \n",
      "Covariance Type:            nonrobust                                         \n",
      "=====================================================================================\n",
      "                        coef    std err          t      P>|t|      [0.025      0.975]\n",
      "-------------------------------------------------------------------------------------\n",
      "Intercept             1.4377      0.019     74.254      0.000       1.400       1.476\n",
      "progresa[T.basal]     0.0332      0.004      8.155      0.000       0.025       0.041\n",
      "sex                   0.0303      0.004      7.709      0.000       0.023       0.038\n",
      "indig                 0.0222      0.005      4.592      0.000       0.013       0.032\n",
      "dist_sec             -0.0097      0.001    -10.361      0.000      -0.012      -0.008\n",
      "fam_n                 0.0003      0.001      0.352      0.725      -0.001       0.002\n",
      "min_dist              0.0004   6.48e-05      6.467      0.000       0.000       0.001\n",
      "dist_cap              0.0002   3.75e-05      4.880      0.000       0.000       0.000\n",
      "hohedu                0.0075      0.001      8.595      0.000       0.006       0.009\n",
      "hohsex                0.0081      0.008      1.032      0.302      -0.007       0.024\n",
      "hohage             1.582e-05      0.000      0.079      0.937      -0.000       0.000\n",
      "hohwag            -2.415e-06   2.85e-06     -0.846      0.397   -8.01e-06    3.18e-06\n",
      "welfare_index      1.963e-05   1.85e-05      1.061      0.289   -1.66e-05    5.59e-05\n",
      "age                  -0.0652      0.001    -91.859      0.000      -0.067      -0.064\n",
      "==============================================================================\n",
      "Omnibus:                     2966.937   Durbin-Watson:                   1.729\n",
      "Prob(Omnibus):                  0.000   Jarque-Bera (JB):             4084.588\n",
      "Skew:                          -0.958   Prob(JB):                         0.00\n",
      "Kurtosis:                       3.280   Cond. No.                     1.03e+04\n",
      "==============================================================================\n",
      "\n",
      "Warnings:\n",
      "[1] Standard Errors assume that the covariance matrix of the errors is correctly specified.\n",
      "[2] The condition number is large, 1.03e+04. This might indicate that there are\n",
      "strong multicollinearity or other numerical problems.\n"
     ]
    }
   ],
   "source": [
    "# Your code here\n",
    "\n",
    "reg2 = smf.ols(formula='sc ~ progresa + sex + indig + dist_sec + fam_n + min_dist + dist_cap + hohedu + hohsex + hohage + hohwag + welfare_index + age', data=prg[(prg['poor'] =='pobre') & (prg['year'] == 98)], missing = 'drop').fit()\n",
    "print(reg2.summary())\n"
   ]
  },
  {
   "cell_type": "markdown",
   "metadata": {},
   "source": [
    "*Discuss your results here*\n",
    "\n",
    "- *The control variables slightly reduce the point estimate of treatment effect from 0.0383 to 0.0332.*\n",
    "\n",
    "\n",
    "- *The control variables slightly reduce the standard error on the treatment effect from 0.005 to 0.004. This implies that including other covariates makes our inference on the treatment more precise and makes our regression model more accurate.* \n",
    "\n",
    "\n",
    "- *Recall that in part 1.3, we see that there are significant differences between treatment and control villages with respect to the following demographic characteristics: dist_cap, hohage, hohedu, hohwag, min_dist, sex, welfare_index. These differences at baseline imply that there might be some differences in the post-treatment enrollment rates due to randomization. Therefore, we can conclude that the differences between the estimates of part 2.2 and part 2.3 can be explained by the impact of randomization. However, we see that the two point estimates are almost the same (the difference is only 0.0051), so we can conclude that the randomization was successful. In other words, the treatment status can be regarded as to be independent of the control variables conditionally.* \n"
   ]
  },
  {
   "cell_type": "markdown",
   "metadata": {},
   "source": [
    "### 2.4 Difference-in-Difference, version 1 (tabular)\n",
    "\n",
    "Thus far, we have computed the effects of Progresa by estimating the difference in 1998 enrollment rates across villages. An alternative approach would be to compute the treatment effect using a difference-in-differences framework.\n",
    "\n",
    "Begin by estimating the average treatment effects of the program for poor households using data from 1997 and 1998. Specifically, calculate the difference (between 1997 and 1998) in enrollment rates among poor households in treated villages; then compute the difference (between 1997 and 1998) in enrollment rates among poor households in control villages. The difference between these two differences is your estimate.\n",
    "\n",
    "* What is your estimate of the impact, and how does it compare to your earlier (simple difference) results?\n",
    "* What is the counterfactual assumption underlying this estimate? \n"
   ]
  },
  {
   "cell_type": "code",
   "execution_count": 10,
   "metadata": {},
   "outputs": [
    {
     "name": "stdout",
     "output_type": "stream",
     "text": [
      "Impact (Difference-in-Differences):  0.030702973230652075\n"
     ]
    },
    {
     "data": {
      "text/html": [
       "<div>\n",
       "<style scoped>\n",
       "    .dataframe tbody tr th:only-of-type {\n",
       "        vertical-align: middle;\n",
       "    }\n",
       "\n",
       "    .dataframe tbody tr th {\n",
       "        vertical-align: top;\n",
       "    }\n",
       "\n",
       "    .dataframe thead th {\n",
       "        text-align: right;\n",
       "    }\n",
       "</style>\n",
       "<table border=\"1\" class=\"dataframe\">\n",
       "  <thead>\n",
       "    <tr style=\"text-align: right;\">\n",
       "      <th></th>\n",
       "      <th>Treatment Group</th>\n",
       "      <th>Control Group</th>\n",
       "    </tr>\n",
       "  </thead>\n",
       "  <tbody>\n",
       "    <tr>\n",
       "      <td>Enrollment Pre-Treatment</td>\n",
       "      <td>0.822697</td>\n",
       "      <td>0.815066</td>\n",
       "    </tr>\n",
       "    <tr>\n",
       "      <td>Enrollment Post-Treatment</td>\n",
       "      <td>0.849257</td>\n",
       "      <td>0.810923</td>\n",
       "    </tr>\n",
       "  </tbody>\n",
       "</table>\n",
       "</div>"
      ],
      "text/plain": [
       "                          Treatment Group Control Group\n",
       "Enrollment Pre-Treatment         0.822697      0.815066\n",
       "Enrollment Post-Treatment        0.849257      0.810923"
      ]
     },
     "execution_count": 10,
     "metadata": {},
     "output_type": "execute_result"
    }
   ],
   "source": [
    "# Your code here\n",
    "\n",
    "# Create dataframe to tabulate the values\n",
    "did = pd.DataFrame(index = ['Enrollment Pre-Treatment', 'Enrollment Post-Treatment'], columns = ['Treatment Group', 'Control Group'])\n",
    "\n",
    "# Calculate the mean values for treatment group \n",
    "treatment98 = prg[(prg['poor'] =='pobre') & (prg['progresa'] == 'basal') & (prg['year'] == 98)].sc.mean()\n",
    "treatment97 = prg[(prg['poor'] =='pobre') & (prg['progresa'] == 'basal') & (prg['year'] == 97)].sc.mean()\n",
    "did.loc['Enrollment Pre-Treatment', 'Treatment Group'] = treatment97\n",
    "did.loc['Enrollment Post-Treatment', 'Treatment Group'] = treatment98\n",
    "\n",
    "# Calculate the mean values for control group\n",
    "control98 = prg[(prg['poor'] =='pobre') & (prg['progresa'] == str(0)) & (prg['year'] == 98)].sc.mean()\n",
    "control97 = prg[(prg['poor'] =='pobre') & (prg['progresa'] == str(0)) & (prg['year'] == 97)].sc.mean() \n",
    "did.loc['Enrollment Pre-Treatment', 'Control Group'] = control97\n",
    "did.loc['Enrollment Post-Treatment', 'Control Group'] = control98\n",
    "\n",
    "# Calculate the differences \n",
    "difference_treatment = treatment98 - treatment97\n",
    "difference_control = control98 - control97\n",
    "impact_DD = difference_treatment - difference_control\n",
    "\n",
    "# Print the results\n",
    "print(\"Impact (Difference-in-Differences): \", difference_treatment - difference_control)\n",
    "did"
   ]
  },
  {
   "cell_type": "markdown",
   "metadata": {},
   "source": [
    "*Discuss your results here*\n",
    "\n",
    "- *The difference-in-differences estimate of impact is 0.0307. It is slightly smaller than the simple differences estimates which were computed as 0.0383 and 0.0332.*\n",
    "\n",
    "\n",
    "- *Counterfactual assumption: Trends (changes over time) in the school enrollment rates of treatment villages and control villages would have been the same in the absence of treatment.* \n"
   ]
  },
  {
   "cell_type": "markdown",
   "metadata": {},
   "source": [
    "### 2.5 Difference-in-Difference, version 2 (regression)\n",
    "\n",
    "Now use a regression specification to estimate the average treatment effects of the program in a difference-in-differences framework. Include at least 5 control variables.\n",
    "\n",
    "* What is your estimate of the impact of Progresa? Be very specific in interpreting your coefficients and standard errors, and make sure to specify exactly what units you are measuring and estimating.\n",
    "* How do these estimates of the treatment effect compare to the estimates based on the simple difference?\n",
    "* How do these estimates compare to the difference-in-difference estimates from 2.4 above? What accounts for these differences?\n",
    "* What is the counterfactual assumption underlying this regression? "
   ]
  },
  {
   "cell_type": "code",
   "execution_count": 12,
   "metadata": {},
   "outputs": [
    {
     "name": "stdout",
     "output_type": "stream",
     "text": [
      "                            OLS Regression Results                            \n",
      "==============================================================================\n",
      "Dep. Variable:                     sc   R-squared:                       0.282\n",
      "Model:                            OLS   Adj. R-squared:                  0.281\n",
      "Method:                 Least Squares   F-statistic:                     1486.\n",
      "Date:                Mon, 10 Feb 2020   Prob (F-statistic):               0.00\n",
      "Time:                        13:19:45   Log-Likelihood:                -16049.\n",
      "No. Observations:               56893   AIC:                         3.213e+04\n",
      "Df Residuals:                   56877   BIC:                         3.227e+04\n",
      "Df Model:                          15                                         \n",
      "Covariance Type:            nonrobust                                         \n",
      "=================================================================================\n",
      "                    coef    std err          t      P>|t|      [0.025      0.975]\n",
      "---------------------------------------------------------------------------------\n",
      "Intercept         1.4090      0.013    106.623      0.000       1.383       1.435\n",
      "progresa          0.0033      0.004      0.862      0.389      -0.004       0.011\n",
      "post              0.0326      0.004      7.403      0.000       0.024       0.041\n",
      "progresa:post     0.0304      0.006      5.456      0.000       0.019       0.041\n",
      "sex               0.0332      0.003     12.339      0.000       0.028       0.039\n",
      "indig             0.0261      0.003      7.898      0.000       0.020       0.033\n",
      "dist_sec         -0.0091      0.001    -14.235      0.000      -0.010      -0.008\n",
      "fam_n           2.77e-05      0.001      0.045      0.964      -0.001       0.001\n",
      "min_dist          0.0004   4.44e-05      8.693      0.000       0.000       0.000\n",
      "dist_cap          0.0002   2.57e-05      6.804      0.000       0.000       0.000\n",
      "hohedu            0.0070      0.001     11.735      0.000       0.006       0.008\n",
      "hohsex            0.0008      0.005      0.148      0.883      -0.010       0.011\n",
      "hohage            0.0002      0.000      1.801      0.072   -2.18e-05       0.001\n",
      "hohwag         4.105e-07   1.95e-06      0.211      0.833   -3.41e-06    4.23e-06\n",
      "welfare_index  1.862e-05   1.27e-05      1.469      0.142   -6.23e-06    4.35e-05\n",
      "age              -0.0656      0.000   -141.186      0.000      -0.066      -0.065\n",
      "==============================================================================\n",
      "Omnibus:                     5465.391   Durbin-Watson:                   1.490\n",
      "Prob(Omnibus):                  0.000   Jarque-Bera (JB):             7211.867\n",
      "Skew:                          -0.870   Prob(JB):                         0.00\n",
      "Kurtosis:                       3.126   Cond. No.                     1.04e+04\n",
      "==============================================================================\n",
      "\n",
      "Warnings:\n",
      "[1] Standard Errors assume that the covariance matrix of the errors is correctly specified.\n",
      "[2] The condition number is large, 1.04e+04. This might indicate that there are\n",
      "strong multicollinearity or other numerical problems.\n"
     ]
    }
   ],
   "source": [
    "# Your code here\n",
    "\n",
    "# Create binary variables for 'treatment' and 'time'\n",
    "df2 = prg[prg['poor'] == 'pobre']\n",
    "df2.loc[df2.year == 97, 'post'] = 0\n",
    "df2.loc[df2.year == 98, 'post'] = 1\n",
    "df2.loc[df2.progresa == 'basal', 'progresa'] = 1\n",
    "df2.loc[df2.progresa == str(0), 'progresa'] = 0\n",
    "\n",
    "# Create the regression model\n",
    "reg3 = smf.ols(formula='sc ~ progresa*post + sex + indig + dist_sec + fam_n + min_dist + dist_cap + hohedu + hohsex + hohage + hohwag + welfare_index + age', data=df2).fit()\n",
    "print(reg3.summary())\n"
   ]
  },
  {
   "cell_type": "markdown",
   "metadata": {},
   "source": [
    "*Discuss your results here*\n",
    "\n",
    "- *This regression model is designed to estimate the coefficient of the interaction term of the treatment variable ('progresa') and time variable ('post') which is the true effect of the treatment. Hence, the  difference-in-difference estimate of the impact of Progresa is 0.0304, i.e. 3% increase in average school enrollment rates of treated villages after the Progresa treatment. Note that the standard error is 0.006 which is very small and so implies that we have a high confidence on the estimated impact of treatment. The interpretation of the individual effects are as follows:* \n",
    "\n",
    "    - *The coefficient of 'post' variable, 0.0326, denotes the expected time trend from before to after the treatment among the control group. In the difference-in-differences framework, this trend is assumed to be common to both treatment and control groups. It can be also regarded as the natural impact of the passage of time in the absence of treatment. In other words, average enrollment rate of households is increased by 0.0326 after 1998 with a standard error of 0.004.*    \n",
    "    - *The coefficient of 'progresa' variable, 0.0033, is the estimated mean baseline difference between the treatment and control groups before the treatment. In other words, it accounts for average permanent differences between treatment and control groups.* \n",
    "\n",
    "\n",
    "- *In simple differences framework, when we included the control variables in part 2.3, the treatment impact was estimated as 0.0332 with a standard error of 0.004. On the other hand, the estimated treatment impact in difference-in-differences framework is 0.0304 which is slightly closer to 0, but it has a larger standard error (0.006) and smaller t-statistics value. All in all, these differences are insignificant and both of the regression models have a p-value of 0. Hence, we can reject the null hypothesis that the impact of treatment is zero.*  \n",
    "\n",
    "\n",
    "- *In part 2.4, the difference-in-difference estimate of the impact of Progresa was found as 0.0307 which is almost the same as the estimate of the regression model. This insignificant difference (0.0003) is due to including the control variables in the regression model and it is indeed the impact of randomization (as explained in part 2.3).* \n",
    " \n",
    " \n",
    "- *Counterfactual assumption: From before to after treatment period, the difference in school enrollment rates between treatment villages and control villages would have been the same in the absence of treatment. Note that we also have an underlying consistency assumption: Both groups of villages have the same expected school enrollment rates at the baseline (i.e. assignment of treatment was independent of enrollment rates before the treatment).*  \n"
   ]
  },
  {
   "cell_type": "markdown",
   "metadata": {},
   "source": [
    "### 2.6 Spillover effects\n",
    "\n",
    "Thus far, we have focused on the impact of PROGRESA on poor households. Repeat your analysis in 2.5, instead focusing on the impact of PROGRESA on non-poor households. \n",
    "* Do you observe any impacts of PROGRESA on the non-poor?\n",
    "* Regardless of whether you find evidence of spillovers, describe one or two reasons why PROGRESA *might* have impacted non-poor households. Give concrete examples based on the context in which PROGRESA was implemented."
   ]
  },
  {
   "cell_type": "code",
   "execution_count": 13,
   "metadata": {},
   "outputs": [
    {
     "name": "stdout",
     "output_type": "stream",
     "text": [
      "                            OLS Regression Results                            \n",
      "==============================================================================\n",
      "Dep. Variable:                     sc   R-squared:                       0.291\n",
      "Model:                            OLS   Adj. R-squared:                  0.290\n",
      "Method:                 Least Squares   F-statistic:                     279.7\n",
      "Date:                Mon, 10 Feb 2020   Prob (F-statistic):               0.00\n",
      "Time:                        13:22:08   Log-Likelihood:                -3566.4\n",
      "No. Observations:               10229   AIC:                             7165.\n",
      "Df Residuals:                   10213   BIC:                             7280.\n",
      "Df Model:                          15                                         \n",
      "Covariance Type:            nonrobust                                         \n",
      "=================================================================================\n",
      "                    coef    std err          t      P>|t|      [0.025      0.975]\n",
      "---------------------------------------------------------------------------------\n",
      "Intercept         1.4439      0.037     39.236      0.000       1.372       1.516\n",
      "progresa          0.0242      0.009      2.599      0.009       0.006       0.042\n",
      "post              0.0432      0.011      3.981      0.000       0.022       0.064\n",
      "progresa:post    -0.0019      0.014     -0.137      0.891      -0.029       0.025\n",
      "sex               0.0284      0.007      4.173      0.000       0.015       0.042\n",
      "indig             0.0157      0.010      1.504      0.133      -0.005       0.036\n",
      "dist_sec         -0.0154      0.002     -8.700      0.000      -0.019      -0.012\n",
      "fam_n            -0.0047      0.001     -3.170      0.002      -0.008      -0.002\n",
      "min_dist      -8.462e-05      0.000     -0.723      0.470      -0.000       0.000\n",
      "dist_cap          0.0006   7.66e-05      7.864      0.000       0.000       0.001\n",
      "hohedu            0.0080      0.001      6.494      0.000       0.006       0.010\n",
      "hohsex            0.0020      0.014      0.146      0.884      -0.025       0.029\n",
      "hohage            0.0001      0.000      0.377      0.706      -0.001       0.001\n",
      "hohwag         5.527e-07   3.14e-06      0.176      0.860    -5.6e-06     6.7e-06\n",
      "welfare_index  7.431e-05   2.86e-05      2.599      0.009    1.83e-05       0.000\n",
      "age              -0.0684      0.001    -59.333      0.000      -0.071      -0.066\n",
      "==============================================================================\n",
      "Omnibus:                      837.086   Durbin-Watson:                   1.511\n",
      "Prob(Omnibus):                  0.000   Jarque-Bera (JB):              805.949\n",
      "Skew:                          -0.629   Prob(JB):                    9.78e-176\n",
      "Kurtosis:                       2.443   Cond. No.                     1.62e+04\n",
      "==============================================================================\n",
      "\n",
      "Warnings:\n",
      "[1] Standard Errors assume that the covariance matrix of the errors is correctly specified.\n",
      "[2] The condition number is large, 1.62e+04. This might indicate that there are\n",
      "strong multicollinearity or other numerical problems.\n"
     ]
    }
   ],
   "source": [
    "# Your code here\n",
    "\n",
    "# Create binary variables for 'treatment' and 'pre/post'\n",
    "df3 = prg[prg['poor'] == 'no pobre']\n",
    "df3.loc[df3.year == 97, 'post'] = 0\n",
    "df3.loc[df3.year == 98, 'post'] = 1\n",
    "df3.loc[df3.progresa == 'basal', 'progresa'] = 1\n",
    "df3.loc[df3.progresa == str(0), 'progresa'] = 0\n",
    "\n",
    "# Create the regression model\n",
    "reg4 = smf.ols(formula='sc ~ progresa*post + sex + indig + dist_sec + fam_n + min_dist + dist_cap + hohedu + hohsex + hohage + hohwag + welfare_index + age', data=df3).fit()\n",
    "print(reg4.summary())\n"
   ]
  },
  {
   "cell_type": "markdown",
   "metadata": {},
   "source": [
    "*Discuss your results here*\n",
    "\n",
    "- *The direct impact of the Progresa program for non-poor households who were not treated is 0.0432 and for non-poor households who were treated is 0.0242 + 0.0432 - 0.0019 = 0.0655. Both cases indicate an increase in school enrollment rates of non-poor children due to the spillover effects between poor and non-poor families in Progresa-treated villages.* \n",
    "\n",
    "\n",
    "- *The main reason why Progresa might have impacted non-poor (ineligible) households is the social interaction. Eligible (poor) families in the treated villages might have considerable influence on the enrollment decisions of ineligible (non-poor) children living in these villages. For instance, an ineligible household might make its child's enrollment decision based on a desire to conform him/her with other children due to social norms or peer pressure. Note that this social interaction influence might be more significant for ineligible households whose welfare index are below a certain threshold value. Another reason might be that non-poor households might observe the benefits of school enrollment and value of education directly from their eligible neighbours. Hence, they might decide to send their children to school.*   \n"
   ]
  },
  {
   "cell_type": "markdown",
   "metadata": {},
   "source": [
    "### 2.7 Summary\n",
    "\n",
    "* Based on all the analysis you have undertaken to date, do you believe that Progresa had a causal impact on the enrollment rates of poor households in Mexico? \n",
    "* Describe one other way that you might analyze these data to further investigate the causal impact of Progresa on enrollment, and clearly state the counterfactual assumption you would need to make for that approach to be valid.  *(Hint: Consider using the non-poor in your analysis)*"
   ]
  },
  {
   "cell_type": "markdown",
   "metadata": {},
   "source": [
    "*Discuss your results here*\n",
    "\n",
    "\n",
    "- *Yes, I believe that Progresa had a causal impact on the enrollment rates of poor households in Mexico based on the results of simple differences and difference-in-differences analyses. In addition, the results of OLS models and p-values corresponding to t-tests indicate that we can reject the null hypothesis that the treatment effects are zero. This implies that the Progresa treatment has a statistically significant impact on school enrollment rates of both treatment and control groups. Furthermore, by including other control covariates in our regression models, we have seen that the treatment assignment can be regarded as to be independent of the control variables conditionally. This way, we not only increased the accuracy and confidence of our regression models, but also concluded that the control variables do not affect the causal impact in our randomized control trial setting.* \n",
    "\n",
    "- *An alternative method would be to compare the average enrollment rates in 1998 between poor and non-poor households across treatment and control villages. In that analyses, we would run the same regression model as in part 2.5, but now we would have a binary variable indicating whether an household is poor/non-poor, instead of time variable 'post'. More specifically, the model formula would look like: regression_model = smf.ols(formula='sc ~ progresa*poor + sex + indig + ....). In order to make that approach valid, the counterfactual assumption would be as follows: In the absence of Progresa treatment, the average school enrollment rates in 1998 of poor and non-poor households would have been the same.*  \n"
   ]
  }
 ],
 "metadata": {
  "anaconda-cloud": {},
  "kernelspec": {
   "display_name": "Python 3",
   "language": "python",
   "name": "python3"
  },
  "language_info": {
   "codemirror_mode": {
    "name": "ipython",
    "version": 3
   },
   "file_extension": ".py",
   "mimetype": "text/x-python",
   "name": "python",
   "nbconvert_exporter": "python",
   "pygments_lexer": "ipython3",
   "version": "3.7.4"
  }
 },
 "nbformat": 4,
 "nbformat_minor": 1
}
